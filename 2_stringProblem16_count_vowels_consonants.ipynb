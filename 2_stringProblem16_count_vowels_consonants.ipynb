{
 "cells": [
  {
   "cell_type": "markdown",
   "metadata": {},
   "source": [
    "Count the number of vowels and number of consonants\n",
    "\n",
    "Input: 'TIANA'\n",
    "Output: No vowels= 3\n",
    "No of consonants= 2"
   ]
  },
  {
   "cell_type": "code",
   "execution_count": 11,
   "metadata": {},
   "outputs": [],
   "source": [
    "def vowel_cons_count(str):\n",
    "    \n",
    "    if not str:\n",
    "        return\n",
    "    vowels=0\n",
    "    consonants=0\n",
    "    str=str.lower()\n",
    "    \n",
    "\n",
    "    for s in str:\n",
    "        if (s=='a' or s=='e' or s=='i' or s=='o' or s=='u'):\n",
    "            vowels+=1\n",
    "        else:\n",
    "            consonants+=1\n",
    "    \n",
    "    print('No of vowels: ',  vowels)\n",
    "    print('No of consonanants: ', consonants )\n",
    "\n"
   ]
  },
  {
   "cell_type": "code",
   "execution_count": 12,
   "metadata": {},
   "outputs": [
    {
     "name": "stdout",
     "output_type": "stream",
     "text": [
      "No of vowels:  3\n",
      "No of consonanants:  2\n"
     ]
    }
   ],
   "source": [
    "vowel_cons_count('TIANa')"
   ]
  },
  {
   "cell_type": "code",
   "execution_count": null,
   "metadata": {},
   "outputs": [],
   "source": []
  },
  {
   "cell_type": "code",
   "execution_count": null,
   "metadata": {},
   "outputs": [],
   "source": []
  },
  {
   "cell_type": "code",
   "execution_count": null,
   "metadata": {},
   "outputs": [],
   "source": []
  },
  {
   "cell_type": "code",
   "execution_count": null,
   "metadata": {},
   "outputs": [],
   "source": []
  }
 ],
 "metadata": {
  "kernelspec": {
   "display_name": "Python 3",
   "language": "python",
   "name": "python3"
  },
  "language_info": {
   "codemirror_mode": {
    "name": "ipython",
    "version": 3
   },
   "file_extension": ".py",
   "mimetype": "text/x-python",
   "name": "python",
   "nbconvert_exporter": "python",
   "pygments_lexer": "ipython3",
   "version": "3.8.3"
  }
 },
 "nbformat": 4,
 "nbformat_minor": 4
}

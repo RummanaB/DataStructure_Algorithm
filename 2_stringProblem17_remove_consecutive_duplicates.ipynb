{
 "cells": [
  {
   "cell_type": "markdown",
   "metadata": {},
   "source": [
    "Remove all consecutive duplicates from the string\n",
    "\n",
    "Input  : aaaaabbbbbb\n",
    "Output : ab\n",
    "\n",
    "Input : geeksforgeeks\n",
    "Output : geksforgeks\n",
    "\n",
    "Input : aabccba\n",
    "Output : abcba"
   ]
  },
  {
   "cell_type": "code",
   "execution_count": 11,
   "metadata": {},
   "outputs": [],
   "source": [
    "def remove_dup1(str):\n",
    "    if len(str)<2:\n",
    "        return str\n",
    "    newstr=str[0]\n",
    "    current=str[0]\n",
    "    print(newstr[-1])\n",
    "    for i in range(1,len(str)):\n",
    "                      \n",
    "        if newstr[-1]!= str[i]:\n",
    "            newstr=newstr+str[i]\n",
    "    return newstr\n",
    "\n",
    "# Time complexity= O(n)\n",
    "# Space complexity=O(1)"
   ]
  },
  {
   "cell_type": "code",
   "execution_count": 13,
   "metadata": {},
   "outputs": [
    {
     "name": "stdout",
     "output_type": "stream",
     "text": [
      "a\n"
     ]
    },
    {
     "data": {
      "text/plain": [
       "'abcax'"
      ]
     },
     "execution_count": 13,
     "metadata": {},
     "output_type": "execute_result"
    }
   ],
   "source": [
    "remove_dup1('aabccaxx')"
   ]
  },
  {
   "cell_type": "code",
   "execution_count": null,
   "metadata": {},
   "outputs": [],
   "source": []
  }
 ],
 "metadata": {
  "kernelspec": {
   "display_name": "Python 3",
   "language": "python",
   "name": "python3"
  },
  "language_info": {
   "codemirror_mode": {
    "name": "ipython",
    "version": 3
   },
   "file_extension": ".py",
   "mimetype": "text/x-python",
   "name": "python",
   "nbconvert_exporter": "python",
   "pygments_lexer": "ipython3",
   "version": "3.8.3"
  }
 },
 "nbformat": 4,
 "nbformat_minor": 4
}

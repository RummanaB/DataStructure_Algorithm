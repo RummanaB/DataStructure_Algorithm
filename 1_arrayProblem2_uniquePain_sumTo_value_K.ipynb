{
 "cells": [
  {
   "cell_type": "markdown",
   "metadata": {},
   "source": [
    "## Given an integer array, output all the unique pairs sum up to a specific value K.\n",
    "Example:\n",
    "    pair_sum([1,3,2,2],4)\n",
    "    \n",
    "    would return 2 pairs:\n",
    "        (1,3)\n",
    "        (2,2)\n",
    "        \n",
    "    Note: For testing purposes change your function so it outputs the number of pairs\n",
    "    \n",
    "Assumptions: \n",
    "they are not sorted\n",
    "if empty, return false\n"
   ]
  },
  {
   "cell_type": "markdown",
   "metadata": {},
   "source": [
    "###Method 1: \n",
    "Brute force: We can use two for loops, Outer loops picks a value and inner loop choose a value and sum it. Check the sum value with value v and store if satstfy the condition.\n",
    "\n",
    "Time complexity: O(n^2)\n",
    "        "
   ]
  },
  {
   "cell_type": "code",
   "execution_count": 6,
   "metadata": {},
   "outputs": [],
   "source": [
    "# Method 2: optimal solution\n",
    "\n",
    "def pair_sum(arr,k):\n",
    "\n",
    "    if len(arr)<2:\n",
    "        return\n",
    "\n",
    "    #sets for tracking\n",
    "    seen=set()\n",
    "    output=set()\n",
    "    \n",
    "    for num in arr: # num will show the component of array, not the index\n",
    "        \n",
    "        target=k-num # target we are reaching for\n",
    "        \n",
    "        if target not in seen:\n",
    "            seen.add(num)\n",
    "            print(num )\n",
    "            print(seen)\n",
    "        else:\n",
    "            output.add( (min(num,target),max(num,target))) # add tuple\n",
    "            \n",
    "    # return len(output) # return no of tuples\n",
    "    print('\\n'.join(map(str,list(output))))\n",
    "    \n",
    "# Time complexity: O(n)"
   ]
  },
  {
   "cell_type": "code",
   "execution_count": null,
   "metadata": {},
   "outputs": [],
   "source": []
  },
  {
   "cell_type": "code",
   "execution_count": 10,
   "metadata": {},
   "outputs": [
    {
     "name": "stdout",
     "output_type": "stream",
     "text": [
      "(1, 3)\n",
      "(2, 2)\n"
     ]
    }
   ],
   "source": [
    "pair_sum([1,3,2,2],4)"
   ]
  },
  {
   "cell_type": "code",
   "execution_count": null,
   "metadata": {},
   "outputs": [],
   "source": []
  }
 ],
 "metadata": {
  "kernelspec": {
   "display_name": "Python 3",
   "language": "python",
   "name": "python3"
  },
  "language_info": {
   "codemirror_mode": {
    "name": "ipython",
    "version": 3
   },
   "file_extension": ".py",
   "mimetype": "text/x-python",
   "name": "python",
   "nbconvert_exporter": "python",
   "pygments_lexer": "ipython3",
   "version": "3.8.3"
  }
 },
 "nbformat": 4,
 "nbformat_minor": 4
}

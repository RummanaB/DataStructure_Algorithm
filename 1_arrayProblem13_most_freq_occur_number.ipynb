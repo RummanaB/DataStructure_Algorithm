{
 "cells": [
  {
   "cell_type": "markdown",
   "metadata": {},
   "source": [
    "Find frequently occuring item in an array, only one item is occuring most frequent\n",
    "\n",
    "Input: [1,3,1,3,2,1]\n",
    "output: 1\n",
    "\n",
    "complexiy: O(n)"
   ]
  },
  {
   "cell_type": "code",
   "execution_count": 4,
   "metadata": {},
   "outputs": [],
   "source": [
    "def most_frequent(arr):\n",
    "    dict={}\n",
    "    for num in arr:\n",
    "        \n",
    "        if num in dict:\n",
    "            dict[num]+=1\n",
    "        else:\n",
    "            dict[num]=1\n",
    "    print(dict)\n",
    "    \n",
    "    most_freq_num=arr[0]\n",
    "    No_occured=dict[arr[0]]\n",
    "    #print(most_freq_num)\n",
    "    #print(No_occured)\n",
    "        \n",
    "    for ind,value in dict.items():\n",
    "        \n",
    "        if value>No_occured:\n",
    "            \n",
    "            most_freq_num=ind\n",
    "            No_occured=value\n",
    "        \n",
    "    return most_freq_num "
   ]
  },
  {
   "cell_type": "code",
   "execution_count": 5,
   "metadata": {},
   "outputs": [
    {
     "name": "stdout",
     "output_type": "stream",
     "text": [
      "{1: 3, 3: 2, 2: 1}\n"
     ]
    },
    {
     "data": {
      "text/plain": [
       "1"
      ]
     },
     "execution_count": 5,
     "metadata": {},
     "output_type": "execute_result"
    }
   ],
   "source": [
    "A=[1,3,1,3,2,1]\n",
    "most_frequent(A)"
   ]
  },
  {
   "cell_type": "code",
   "execution_count": 18,
   "metadata": {},
   "outputs": [],
   "source": [
    "def most_frequent(arr):\n",
    "    max_count=-1;max_item=None\n",
    "    count={} # empty hash table or dictionary\n",
    "    for item in arr:\n",
    "        if item not in count:\n",
    "            count[item]=1\n",
    "        else:\n",
    "            count[item]+=1\n",
    "            \n",
    "        if count[item]>max_count:\n",
    "            max_count=count[item]\n",
    "            max_item=item\n",
    "    return max_item"
   ]
  },
  {
   "cell_type": "code",
   "execution_count": 19,
   "metadata": {},
   "outputs": [
    {
     "data": {
      "text/plain": [
       "1"
      ]
     },
     "execution_count": 19,
     "metadata": {},
     "output_type": "execute_result"
    }
   ],
   "source": [
    "most_frequent([1,3,1,3,2,1])"
   ]
  },
  {
   "cell_type": "code",
   "execution_count": null,
   "metadata": {},
   "outputs": [],
   "source": []
  }
 ],
 "metadata": {
  "kernelspec": {
   "display_name": "Python 3",
   "language": "python",
   "name": "python3"
  },
  "language_info": {
   "codemirror_mode": {
    "name": "ipython",
    "version": 3
   },
   "file_extension": ".py",
   "mimetype": "text/x-python",
   "name": "python",
   "nbconvert_exporter": "python",
   "pygments_lexer": "ipython3",
   "version": "3.8.3"
  }
 },
 "nbformat": 4,
 "nbformat_minor": 4
}

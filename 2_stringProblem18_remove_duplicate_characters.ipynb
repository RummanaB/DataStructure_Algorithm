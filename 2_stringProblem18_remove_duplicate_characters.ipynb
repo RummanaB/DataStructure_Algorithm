{
 "cells": [
  {
   "cell_type": "markdown",
   "metadata": {},
   "source": [
    "Write program to remove duplicate charater.  What will be the output if the order of character matters?\n",
    "\n",
    "Input: abcabcabc\n",
    "Output: abc\n",
    "    "
   ]
  },
  {
   "cell_type": "code",
   "execution_count": 3,
   "metadata": {},
   "outputs": [],
   "source": [
    "# method 1: Hash map\n",
    "#Time and Space complexity: O(n)\n",
    "def remove_dup1(str):\n",
    "        if len(str)<2:\n",
    "            print('No duplicate')\n",
    "        str=str.replace(' ','').lower()\n",
    "        dict={}\n",
    "        newstr=''\n",
    "        for s in str:\n",
    "            if s not in dict:\n",
    "                dict[s]=1\n",
    "                newstr=newstr+s\n",
    "        return newstr"
   ]
  },
  {
   "cell_type": "code",
   "execution_count": 4,
   "metadata": {},
   "outputs": [
    {
     "data": {
      "text/plain": [
       "'abc'"
      ]
     },
     "execution_count": 4,
     "metadata": {},
     "output_type": "execute_result"
    }
   ],
   "source": [
    "str='abcabc'\n",
    "remove_dup1(str)"
   ]
  },
  {
   "cell_type": "code",
   "execution_count": 5,
   "metadata": {},
   "outputs": [
    {
     "data": {
      "text/plain": [
       "'geksfor'"
      ]
     },
     "execution_count": 5,
     "metadata": {},
     "output_type": "execute_result"
    }
   ],
   "source": [
    "remove_dup1('geeksforgeeks')"
   ]
  },
  {
   "cell_type": "code",
   "execution_count": 14,
   "metadata": {},
   "outputs": [],
   "source": [
    "# Method 2: No hash map, only run over loop\n",
    "# Time complexity=O(n)\n",
    "# Space complexity=1\n",
    "\n",
    "def remove_dup2(str):\n",
    "    ## Without order\n",
    "    s=set(str)\n",
    "    s=''.join(s)\n",
    "    print('When order is not important:' + s)\n",
    "    \n",
    "    newstr=''\n",
    "    ## Considering order\n",
    "    for s in str:\n",
    "        if s not in newstr:\n",
    "            newstr=newstr+s\n",
    "    print('COnsidering order:' + newstr)"
   ]
  },
  {
   "cell_type": "code",
   "execution_count": 15,
   "metadata": {},
   "outputs": [
    {
     "name": "stdout",
     "output_type": "stream",
     "text": [
      "When order is not important:abgs\n",
      "COnsidering order:gabs\n"
     ]
    }
   ],
   "source": [
    "remove_dup2('gabgss')"
   ]
  },
  {
   "cell_type": "code",
   "execution_count": null,
   "metadata": {},
   "outputs": [],
   "source": []
  }
 ],
 "metadata": {
  "kernelspec": {
   "display_name": "Python 3",
   "language": "python",
   "name": "python3"
  },
  "language_info": {
   "codemirror_mode": {
    "name": "ipython",
    "version": 3
   },
   "file_extension": ".py",
   "mimetype": "text/x-python",
   "name": "python",
   "nbconvert_exporter": "python",
   "pygments_lexer": "ipython3",
   "version": "3.8.3"
  }
 },
 "nbformat": 4,
 "nbformat_minor": 4
}

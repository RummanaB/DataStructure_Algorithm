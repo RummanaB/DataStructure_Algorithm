{
 "cells": [
  {
   "cell_type": "markdown",
   "metadata": {},
   "source": [
    "Find duplicate number on a given integer array"
   ]
  },
  {
   "cell_type": "code",
   "execution_count": 13,
   "metadata": {},
   "outputs": [],
   "source": [
    "def duplicate_check(arr):\n",
    "    if not arr:\n",
    "        return None\n",
    "    if len(arr)==1:\n",
    "        print('No dup')\n",
    "        return None\n",
    "    \n",
    "    dict={}\n",
    "    \n",
    "    for num in arr:\n",
    "        \n",
    "        if num not in dict:\n",
    "            dict[num]=1\n",
    "        else:\n",
    "            print('Dup found,' + str(num))\n",
    "            dict[num]+=1\n",
    "\n",
    "    \n",
    " '''\n",
    " time complexity O(n)=n\n",
    " space complexity s(n)=n\n",
    " '''   \n",
    "    "
   ]
  },
  {
   "cell_type": "code",
   "execution_count": 15,
   "metadata": {},
   "outputs": [
    {
     "name": "stdout",
     "output_type": "stream",
     "text": [
      "Dup found,2\n",
      "Dup found,3\n"
     ]
    }
   ],
   "source": [
    "duplicate_check([2,1,2,3,3])"
   ]
  },
  {
   "cell_type": "markdown",
   "metadata": {},
   "source": [
    "### How to remove duplicate from sorted array (In place)"
   ]
  },
  {
   "cell_type": "code",
   "execution_count": 38,
   "metadata": {},
   "outputs": [],
   "source": [
    "def remove_dup(arr):\n",
    "    if len(arr)<2:\n",
    "        print(\"No dup\")\n",
    "        return None\n",
    "    arr.sort()\n",
    "    wrt_idx=1\n",
    "    \n",
    "    for i in range(1,len(arr)):\n",
    "        if arr[wrt_idx-1]!=arr[i]:\n",
    "            arr[wrt_idx]=arr[i]\n",
    "            wrt_idx+=1\n",
    "        \n",
    "    arr[wrt_idx:len(arr)]=[]\n",
    "    print(arr)\n",
    "    return arr\n",
    "            \n",
    "\n",
    " #time complexity O(n)=n\n",
    " #space complexity s(n)=1\n",
    "   "
   ]
  },
  {
   "cell_type": "code",
   "execution_count": 39,
   "metadata": {},
   "outputs": [
    {
     "name": "stdout",
     "output_type": "stream",
     "text": [
      "[1, 2, 3, 4, 5]\n"
     ]
    },
    {
     "data": {
      "text/plain": [
       "[1, 2, 3, 4, 5]"
      ]
     },
     "execution_count": 39,
     "metadata": {},
     "output_type": "execute_result"
    }
   ],
   "source": [
    "remove_dup([1,2,2,3,4,4,5])"
   ]
  },
  {
   "cell_type": "code",
   "execution_count": 40,
   "metadata": {},
   "outputs": [
    {
     "name": "stdout",
     "output_type": "stream",
     "text": [
      "[2, 3, 4, 7, 8, 10]\n"
     ]
    },
    {
     "data": {
      "text/plain": [
       "[2, 3, 4, 7, 8, 10]"
      ]
     },
     "execution_count": 40,
     "metadata": {},
     "output_type": "execute_result"
    }
   ],
   "source": [
    "remove_dup([10,4,2,4,7,3,8,7])\n"
   ]
  },
  {
   "cell_type": "code",
   "execution_count": 43,
   "metadata": {},
   "outputs": [
    {
     "data": {
      "text/plain": [
       "3"
      ]
     },
     "execution_count": 43,
     "metadata": {},
     "output_type": "execute_result"
    }
   ],
   "source": [
    "A=[2,3]\n",
    "max(A)"
   ]
  },
  {
   "cell_type": "markdown",
   "metadata": {},
   "source": [
    "### Remove duplicate from unsorted array (no order, return sorted value)"
   ]
  },
  {
   "cell_type": "code",
   "execution_count": 49,
   "metadata": {},
   "outputs": [
    {
     "name": "stdout",
     "output_type": "stream",
     "text": [
      "[2, 3, 4, 7, 8, 10]\n",
      "{2, 3, 4, 7, 8, 10}\n"
     ]
    }
   ],
   "source": [
    "# first sort it, then for loop on each element: O(n)=nlogn+n\n",
    "arr=[10,4,2,4,7,3,8,7]\n",
    "# out=[10,4,2,7,3,8]\n",
    "\n",
    "print(list(set(arr)))\n",
    "setA=set()\n",
    "\n",
    "for num in arr:\n",
    "    if num not in setA:\n",
    "        setA.add(num)\n",
    "print(setA)"
   ]
  },
  {
   "cell_type": "code",
   "execution_count": 50,
   "metadata": {},
   "outputs": [],
   "source": [
    "### Remove duplicate from unsorted array (keep order of original)"
   ]
  },
  {
   "cell_type": "code",
   "execution_count": 51,
   "metadata": {},
   "outputs": [
    {
     "name": "stdout",
     "output_type": "stream",
     "text": [
      "[10, 4, 2, 7, 3, 8]\n"
     ]
    }
   ],
   "source": [
    "arr=[10,4,2,4,7,3,8,7]\n",
    "\n",
    "unique_elem=[]\n",
    "\n",
    "for num in arr:\n",
    "    if num not in unique_elem:\n",
    "        unique_elem.append(num)\n",
    "\n",
    "print(unique_elem)\n",
    "\n",
    "#time complexity O(n)=n\n",
    "#space complexity s(n)=n\n",
    "   "
   ]
  },
  {
   "cell_type": "code",
   "execution_count": 13,
   "metadata": {},
   "outputs": [
    {
     "name": "stdout",
     "output_type": "stream",
     "text": [
      "[1, 2, 3, 4, 5]\n"
     ]
    }
   ],
   "source": [
    "remove_dup_Inplace([1,2,2,3,4,4,5])"
   ]
  },
  {
   "cell_type": "code",
   "execution_count": null,
   "metadata": {},
   "outputs": [],
   "source": []
  }
 ],
 "metadata": {
  "kernelspec": {
   "display_name": "Python 3",
   "language": "python",
   "name": "python3"
  },
  "language_info": {
   "codemirror_mode": {
    "name": "ipython",
    "version": 3
   },
   "file_extension": ".py",
   "mimetype": "text/x-python",
   "name": "python",
   "nbconvert_exporter": "python",
   "pygments_lexer": "ipython3",
   "version": "3.8.3"
  }
 },
 "nbformat": 4,
 "nbformat_minor": 4
}

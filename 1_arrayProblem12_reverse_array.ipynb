{
 "cells": [
  {
   "cell_type": "code",
   "execution_count": 1,
   "metadata": {},
   "outputs": [
    {
     "name": "stdout",
     "output_type": "stream",
     "text": [
      "[4, 3, 2, 1]\n"
     ]
    }
   ],
   "source": [
    "# Method 1: one for loop and using additional array\n",
    "\n",
    "arr=[1,2,3,4]\n",
    "A=[]\n",
    "for i in arr:\n",
    "    A.insert(0,i)\n",
    "print(A)\n",
    "\n",
    "# Time complexity: O(n)=n\n",
    "# Space complexity: s(n)=n\n"
   ]
  },
  {
   "cell_type": "code",
   "execution_count": 19,
   "metadata": {},
   "outputs": [
    {
     "name": "stdout",
     "output_type": "stream",
     "text": [
      "[5, 4, 3, 2, 1]\n"
     ]
    }
   ],
   "source": [
    "# Method 2: In place reverse, No additional memory\n",
    "\n",
    "A=[1,2,3,4,5]\n",
    "\n",
    "n= (len(A)//2)\n",
    "\n",
    "for i in range(n):\n",
    "\n",
    "    tmp=A[i]\n",
    "    A[i]=A[len(A)-i-1]\n",
    "    A[len(A)-i-1]=tmp\n",
    "\n",
    "print(A)\n",
    "\n",
    "# Time complexity: O(n)=n\n",
    "# Space complexity: s(n)=1\n"
   ]
  },
  {
   "cell_type": "code",
   "execution_count": 16,
   "metadata": {},
   "outputs": [],
   "source": [
    "# Method 3: Recursion\n",
    "\n",
    "def reverse_recursion(A):\n",
    "    if len(A)==1:\n",
    "        return A\n",
    "    \n",
    "    else:\n",
    "        return reverse_recursion(A[1:]) + [A[0]]"
   ]
  },
  {
   "cell_type": "code",
   "execution_count": 18,
   "metadata": {},
   "outputs": [
    {
     "data": {
      "text/plain": [
       "[3, 2, 1]"
      ]
     },
     "execution_count": 18,
     "metadata": {},
     "output_type": "execute_result"
    }
   ],
   "source": [
    "reverse_recursion([1,2,3])"
   ]
  },
  {
   "cell_type": "code",
   "execution_count": 31,
   "metadata": {},
   "outputs": [
    {
     "name": "stdout",
     "output_type": "stream",
     "text": [
      "[1]\n",
      "[1, 2]\n",
      "[1]\n"
     ]
    }
   ],
   "source": [
    "# Method 4: Using stack\n",
    "\n",
    "def createStack():\n",
    "    stack=[]\n",
    "    return stack\n",
    "def isEmpty(A):\n",
    "    return len(A)==0\n",
    "\n",
    "def sizeA(A):\n",
    "    return len(A)\n",
    "def pushs(A,item):\n",
    "    A.append(item)\n",
    "def popS(A):\n",
    "    if isEmpty(A):\n",
    "        return None\n",
    "    else:\n",
    "        A.pop()\n",
    "        \n",
    "        \n",
    "s=createStack()\n",
    "pushs(s,1)\n",
    "print(s)\n",
    "isEmpty(s)\n",
    "pushs(s,2)\n",
    "\n",
    "print(s)\n",
    "popS(s)\n",
    "print(s)"
   ]
  },
  {
   "cell_type": "code",
   "execution_count": null,
   "metadata": {},
   "outputs": [],
   "source": []
  }
 ],
 "metadata": {
  "kernelspec": {
   "display_name": "Python 3",
   "language": "python",
   "name": "python3"
  },
  "language_info": {
   "codemirror_mode": {
    "name": "ipython",
    "version": 3
   },
   "file_extension": ".py",
   "mimetype": "text/x-python",
   "name": "python",
   "nbconvert_exporter": "python",
   "pygments_lexer": "ipython3",
   "version": "3.8.3"
  }
 },
 "nbformat": 4,
 "nbformat_minor": 4
}

{
 "cells": [
  {
   "cell_type": "markdown",
   "metadata": {},
   "source": [
    "Given an array of positive integers/ All number occurs even number of times except one number which occurs odd number of times.\n",
    "\n",
    "Input: [1,2,3,2,3,1,3]\n",
    "Output: 3"
   ]
  },
  {
   "cell_type": "markdown",
   "metadata": {},
   "source": [
    "## Method 1: Brute force\n",
    "'''\n",
    "Use two loops. Outer loop to track unique number. Inner loop to count it.\n",
    "TIme complexity, O(n^2)\n",
    "\n",
    "# Method 2: Hash map\n",
    "Time complexity: o(n)=n\n",
    "Space complexity: s(n)\n",
    "\n",
    "# Method 3: XOR operation\n",
    "Time complexity: O(n)=n\n",
    "Bitwise XOR sets the bits in the result to 1 if either, but not both, of the corresponding bits in the two operands is 1.\n",
    "\n",
    "a  b  xor\n",
    "------------\n",
    "0   0   0\n",
    "0   1   1\n",
    "1   0   1\n",
    "1   1   0\n",
    "\n",
    "'''"
   ]
  },
  {
   "cell_type": "markdown",
   "metadata": {},
   "source": [
    "## Method 2: Hash table\n"
   ]
  },
  {
   "cell_type": "code",
   "execution_count": 1,
   "metadata": {},
   "outputs": [],
   "source": [
    "def find_odd_times_occur_number_hash(arr):\n",
    "    dict={}\n",
    "    \n",
    "    for num in arr:\n",
    "        if num not in dict:\n",
    "            dict[num]=1\n",
    "        else:\n",
    "            dict[num]+=1\n",
    "        \n",
    "    for k in dict:\n",
    "       # print('k=' +str(k))\n",
    "        if dict[k]%2!=0:\n",
    "            return k"
   ]
  },
  {
   "cell_type": "code",
   "execution_count": 2,
   "metadata": {},
   "outputs": [
    {
     "data": {
      "text/plain": [
       "3"
      ]
     },
     "execution_count": 2,
     "metadata": {},
     "output_type": "execute_result"
    }
   ],
   "source": [
    "find_odd_times_occur_number_hash([1,2,3,2,3,1,3])"
   ]
  },
  {
   "cell_type": "code",
   "execution_count": 3,
   "metadata": {},
   "outputs": [],
   "source": [
    "# Method 3: XOR operation\n",
    "def find_odd_times_occur_num(arr):\n",
    "    if not arr:\n",
    "        return None\n",
    "    if len(arr)==1:\n",
    "        return arr[0]\n",
    "    \n",
    "    res=0\n",
    "    for i in arr:\n",
    "        \n",
    "        #print('res=' + str(res))\n",
    "        #print('i= ' + str(i))\n",
    "        \n",
    "        res=res^i\n",
    "        \n",
    "    return res"
   ]
  },
  {
   "cell_type": "code",
   "execution_count": 4,
   "metadata": {},
   "outputs": [
    {
     "data": {
      "text/plain": [
       "3"
      ]
     },
     "execution_count": 4,
     "metadata": {},
     "output_type": "execute_result"
    }
   ],
   "source": [
    "find_odd_times_occur_num([1,2,3,2,3,1,3])"
   ]
  },
  {
   "cell_type": "code",
   "execution_count": null,
   "metadata": {},
   "outputs": [],
   "source": []
  },
  {
   "cell_type": "code",
   "execution_count": null,
   "metadata": {},
   "outputs": [],
   "source": []
  },
  {
   "cell_type": "code",
   "execution_count": null,
   "metadata": {},
   "outputs": [],
   "source": []
  },
  {
   "cell_type": "code",
   "execution_count": null,
   "metadata": {},
   "outputs": [],
   "source": []
  },
  {
   "cell_type": "code",
   "execution_count": null,
   "metadata": {},
   "outputs": [],
   "source": []
  },
  {
   "cell_type": "code",
   "execution_count": null,
   "metadata": {},
   "outputs": [],
   "source": []
  },
  {
   "cell_type": "code",
   "execution_count": null,
   "metadata": {},
   "outputs": [],
   "source": []
  },
  {
   "cell_type": "code",
   "execution_count": null,
   "metadata": {},
   "outputs": [],
   "source": []
  },
  {
   "cell_type": "code",
   "execution_count": null,
   "metadata": {},
   "outputs": [],
   "source": []
  }
 ],
 "metadata": {
  "kernelspec": {
   "display_name": "Python 3",
   "language": "python",
   "name": "python3"
  },
  "language_info": {
   "codemirror_mode": {
    "name": "ipython",
    "version": 3
   },
   "file_extension": ".py",
   "mimetype": "text/x-python",
   "name": "python",
   "nbconvert_exporter": "python",
   "pygments_lexer": "ipython3",
   "version": "3.8.3"
  }
 },
 "nbformat": 4,
 "nbformat_minor": 4
}

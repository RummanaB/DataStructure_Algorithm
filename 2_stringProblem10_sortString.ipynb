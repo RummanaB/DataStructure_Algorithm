{
 "cells": [
  {
   "cell_type": "code",
   "execution_count": null,
   "metadata": {},
   "outputs": [],
   "source": [
    "Sort string without using any API\n",
    "Input: 'cdab'\n",
    "    \n",
    "output: 'abcd'"
   ]
  },
  {
   "cell_type": "code",
   "execution_count": 5,
   "metadata": {},
   "outputs": [
    {
     "name": "stdout",
     "output_type": "stream",
     "text": [
      "The original string : cdab\n",
      "String after sorting : abcd\n"
     ]
    }
   ],
   "source": [
    "str1 = \"cdab\"\n",
    "  \n",
    "# printing given  string \n",
    "print(\"The original string : \" + str1)\n",
    "  \n",
    "# Sorting a string \n",
    "res = ''.join(sorted(str1))\n",
    "      \n",
    "# print result\n",
    "print(\"String after sorting : \" + res)"
   ]
  }
 ],
 "metadata": {
  "kernelspec": {
   "display_name": "Python 3",
   "language": "python",
   "name": "python3"
  },
  "language_info": {
   "codemirror_mode": {
    "name": "ipython",
    "version": 3
   },
   "file_extension": ".py",
   "mimetype": "text/x-python",
   "name": "python",
   "nbconvert_exporter": "python",
   "pygments_lexer": "ipython3",
   "version": "3.8.3"
  }
 },
 "nbformat": 4,
 "nbformat_minor": 4
}

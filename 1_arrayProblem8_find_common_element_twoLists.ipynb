{
 "cells": [
  {
   "cell_type": "code",
   "execution_count": 5,
   "metadata": {},
   "outputs": [],
   "source": [
    "# Method 1: Two loops to check whether any common element is found in two arrays\n",
    "\n",
    "def any_common(arr1,arr2):\n",
    "  if len(arr1)==0 or len(arr2)==0:\n",
    "    return False\n",
    "\n",
    "  for num1 in arr1:\n",
    "      for num2 in arr2:\n",
    "        if num1==num2:\n",
    "          return True\n",
    "  return False\n",
    "\n",
    "# Time complexity: O(n^2)"
   ]
  },
  {
   "cell_type": "code",
   "execution_count": 6,
   "metadata": {},
   "outputs": [
    {
     "data": {
      "text/plain": [
       "False"
      ]
     },
     "execution_count": 6,
     "metadata": {},
     "output_type": "execute_result"
    }
   ],
   "source": [
    "any_common(['a','b','c','x'],[])"
   ]
  },
  {
   "cell_type": "code",
   "execution_count": 7,
   "metadata": {},
   "outputs": [
    {
     "data": {
      "text/plain": [
       "True"
      ]
     },
     "execution_count": 7,
     "metadata": {},
     "output_type": "execute_result"
    }
   ],
   "source": [
    "any_common(['a','b','c','x'],['x','y'])"
   ]
  },
  {
   "cell_type": "code",
   "execution_count": 3,
   "metadata": {},
   "outputs": [],
   "source": [
    "# Method 2: Hash table\n",
    "\n",
    "def any_common_HashTable():\n",
    "#def any_common_HashTable(arr1,arr2):\n",
    "    \n",
    "\n",
    "    arr1=['a','b','c']\n",
    "    arr2=['z','x']\n",
    "    dict={}\n",
    "\n",
    "    for i in arr1:\n",
    "        \n",
    "        dict[i]=1\n",
    "        #print(dict[i])\n",
    "    \n",
    "    #print(dict.keys())\n",
    "    #print(dict.values())\n",
    "    \n",
    "    \n",
    "    for j in arr2:\n",
    "        if dict.get(j)==1:\n",
    "            return True\n",
    "\n",
    "    return False\n",
    "    "
   ]
  },
  {
   "cell_type": "code",
   "execution_count": 4,
   "metadata": {},
   "outputs": [
    {
     "data": {
      "text/plain": [
       "False"
      ]
     },
     "execution_count": 4,
     "metadata": {},
     "output_type": "execute_result"
    }
   ],
   "source": [
    "any_common_HashTable()"
   ]
  },
  {
   "cell_type": "markdown",
   "metadata": {},
   "source": [
    "# Given two lists, print all the common element of two lists.\n",
    "\n",
    "Input : list1 = [1, 2, 3, 4, 5] \n",
    "        list2 = [5, 6, 7, 8, 9]\n",
    "Output : {5}\n",
    "    \n",
    "Input : list1 = [1, 2, 3, 4, 5] \n",
    "        list2 = [6, 7, 8, 9]\n",
    "Output : No common elements "
   ]
  },
  {
   "cell_type": "code",
   "execution_count": 51,
   "metadata": {},
   "outputs": [],
   "source": [
    "def common_member(list1,list2):\n",
    "    list1_set=set(list1)\n",
    "    list2_set=set(list2)\n",
    "    \n",
    "    if (list1_set & list2_set):\n",
    "        print(list1_set & list2_set)\n",
    "        \n",
    "    else:\n",
    "        print('No common element')"
   ]
  },
  {
   "cell_type": "code",
   "execution_count": 52,
   "metadata": {},
   "outputs": [
    {
     "name": "stdout",
     "output_type": "stream",
     "text": [
      "{5}\n"
     ]
    }
   ],
   "source": [
    "a = [1, 2, 3, 4, 5] \n",
    "b = [5, 6, 7, 8, 9] \n",
    "common_member(a, b) "
   ]
  },
  {
   "cell_type": "code",
   "execution_count": 53,
   "metadata": {},
   "outputs": [
    {
     "name": "stdout",
     "output_type": "stream",
     "text": [
      "No common element\n"
     ]
    }
   ],
   "source": [
    "a = [1, 2, 3, 4, 5] \n",
    "b = [6, 7, 8, 9] \n",
    "common_member(a, b) "
   ]
  },
  {
   "cell_type": "code",
   "execution_count": 55,
   "metadata": {},
   "outputs": [],
   "source": [
    "def common_element_intersection(list1,list2):\n",
    "    list1_set=set(list1)\n",
    "    list2_set=set(list2)\n",
    "    \n",
    "    if len(list1_set.intersection(list2_set))>0:\n",
    "        return list1_set.intersection(list2_set)\n",
    "    else:\n",
    "        return (\"No common element\")\n",
    "    "
   ]
  },
  {
   "cell_type": "code",
   "execution_count": 56,
   "metadata": {},
   "outputs": [
    {
     "data": {
      "text/plain": [
       "{5}"
      ]
     },
     "execution_count": 56,
     "metadata": {},
     "output_type": "execute_result"
    }
   ],
   "source": [
    "a = [1, 2, 3, 4, 5] \n",
    "b = [5, 6, 7, 8, 9] \n",
    "common_element_intersection(a, b) "
   ]
  },
  {
   "cell_type": "code",
   "execution_count": 57,
   "metadata": {},
   "outputs": [
    {
     "data": {
      "text/plain": [
       "'No common element'"
      ]
     },
     "execution_count": 57,
     "metadata": {},
     "output_type": "execute_result"
    }
   ],
   "source": [
    "a = [1, 2, 3, 4, 5] \n",
    "b = [ 6, 7, 8, 9] \n",
    "common_element_intersection(a, b) "
   ]
  },
  {
   "cell_type": "code",
   "execution_count": null,
   "metadata": {},
   "outputs": [],
   "source": []
  }
 ],
 "metadata": {
  "kernelspec": {
   "display_name": "Python 3",
   "language": "python",
   "name": "python3"
  },
  "language_info": {
   "codemirror_mode": {
    "name": "ipython",
    "version": 3
   },
   "file_extension": ".py",
   "mimetype": "text/x-python",
   "name": "python",
   "nbconvert_exporter": "python",
   "pygments_lexer": "ipython3",
   "version": "3.8.3"
  }
 },
 "nbformat": 4,
 "nbformat_minor": 4
}

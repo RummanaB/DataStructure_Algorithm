{
 "cells": [
  {
   "cell_type": "markdown",
   "metadata": {},
   "source": [
    "## Anagram check: Rearrange the letters to get different words or phrases"
   ]
  },
  {
   "cell_type": "code",
   "execution_count": null,
   "metadata": {},
   "outputs": [],
   "source": [
    "Note: (assumptions)\n",
    "    1. Ignore spaces\n",
    "    2. Ignore captital "
   ]
  },
  {
   "cell_type": "code",
   "execution_count": 4,
   "metadata": {},
   "outputs": [],
   "source": [
    "def anagram_v2(s1,s2):\n",
    "    \n",
    "    s1=s1.replace(' ','').lower()\n",
    "    s2=s2.replace(' ','').lower()\n",
    "    \n",
    "    # edge case\n",
    "    \n",
    "    if len(s1)!=len(s2):\n",
    "        return  False\n",
    "    \n",
    "    # define dictionary\n",
    "    \n",
    "    count={}\n",
    "    \n",
    "    for letter in s1:\n",
    "        if letter in count:\n",
    "            count[letter]+=1\n",
    "        else:\n",
    "            count[letter]=1\n",
    "       \n",
    "    for letter in s2:\n",
    "        if letter in count:\n",
    "            count[letter]-=1\n",
    "        else:\n",
    "            count[letter]=1\n",
    "        \n",
    "    for k in count:\n",
    "        if count[k]!=0:\n",
    "            return False\n",
    "        \n",
    "    return True\n",
    "        \n",
    "        \n"
   ]
  },
  {
   "cell_type": "code",
   "execution_count": 5,
   "metadata": {},
   "outputs": [
    {
     "data": {
      "text/plain": [
       "True"
      ]
     },
     "execution_count": 5,
     "metadata": {},
     "output_type": "execute_result"
    }
   ],
   "source": [
    "anagram_v2('dog','god')"
   ]
  },
  {
   "cell_type": "code",
   "execution_count": 6,
   "metadata": {},
   "outputs": [
    {
     "data": {
      "text/plain": [
       "False"
      ]
     },
     "execution_count": 6,
     "metadata": {},
     "output_type": "execute_result"
    }
   ],
   "source": [
    "anagram_v2('dog','good')"
   ]
  },
  {
   "cell_type": "markdown",
   "metadata": {},
   "source": [
    "# Time complexity\n",
    " mine solution (need) to verify\n",
    " o(n)= n+n+n=3n~ n\n",
    " \n",
    " O(n)~ n\n"
   ]
  },
  {
   "cell_type": "code",
   "execution_count": 1,
   "metadata": {},
   "outputs": [],
   "source": [
    "# Using built-in-sorting method\n",
    "def anagram(s1,s2):\n",
    "    \n",
    "    s1=s1.replace(' ','').lower()\n",
    "    s2=s2.replace(' ','').lower()\n",
    "    \n",
    "    return sorted(s1)==sorted(s2)"
   ]
  },
  {
   "cell_type": "code",
   "execution_count": 2,
   "metadata": {},
   "outputs": [
    {
     "data": {
      "text/plain": [
       "False"
      ]
     },
     "execution_count": 2,
     "metadata": {},
     "output_type": "execute_result"
    }
   ],
   "source": [
    "anagram('clent eastwood','olds west action')"
   ]
  }
 ],
 "metadata": {
  "kernelspec": {
   "display_name": "Python 3",
   "language": "python",
   "name": "python3"
  },
  "language_info": {
   "codemirror_mode": {
    "name": "ipython",
    "version": 3
   },
   "file_extension": ".py",
   "mimetype": "text/x-python",
   "name": "python",
   "nbconvert_exporter": "python",
   "pygments_lexer": "ipython3",
   "version": "3.8.3"
  }
 },
 "nbformat": 4,
 "nbformat_minor": 4
}

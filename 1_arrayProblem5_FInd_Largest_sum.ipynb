{
 "cells": [
  {
   "cell_type": "markdown",
   "metadata": {},
   "source": [
    "## Find largest continuous sum\n",
    "Given an array of integers (postivie and negative) find the largest continuous sum.\n",
    "\n",
    "Assumption/ Edge cases:\n",
    "\n",
    "    1. Not empty\n",
    "    2. Array length 1 or 2: \n",
    "    3. Array is sorted or not?\n",
    "    \n",
    "large_cont_sum([1,2,-1,3,4,10,10,-10,-1])\n",
    "RESULT: 29\n",
    "\n"
   ]
  },
  {
   "cell_type": "code",
   "execution_count": 2,
   "metadata": {},
   "outputs": [],
   "source": [
    "#iF ARRAY IS ALL POSITIVE, return sum of the array\n",
    "\n",
    "def large_cont_sum(arr):\n",
    "    if len(arr)==0:\n",
    "        return 0\n",
    "    max_sum=current_sum=arr[0]\n",
    "    \n",
    "    for num in arr[1:]:\n",
    "        current_sum=max(current_sum+num,num)\n",
    "        \n",
    "        max_sum=max(current_sum,max_sum)\n",
    "        \n",
    "    return max_sum\n",
    "    \n",
    "    "
   ]
  },
  {
   "cell_type": "code",
   "execution_count": 3,
   "metadata": {},
   "outputs": [
    {
     "data": {
      "text/plain": [
       "29"
      ]
     },
     "execution_count": 3,
     "metadata": {},
     "output_type": "execute_result"
    }
   ],
   "source": [
    "large_cont_sum([1,2,-1,3,4,10,10,-10,-1])"
   ]
  }
 ],
 "metadata": {
  "kernelspec": {
   "display_name": "Python 3",
   "language": "python",
   "name": "python3"
  },
  "language_info": {
   "codemirror_mode": {
    "name": "ipython",
    "version": 3
   },
   "file_extension": ".py",
   "mimetype": "text/x-python",
   "name": "python",
   "nbconvert_exporter": "python",
   "pygments_lexer": "ipython3",
   "version": "3.8.3"
  }
 },
 "nbformat": 4,
 "nbformat_minor": 4
}

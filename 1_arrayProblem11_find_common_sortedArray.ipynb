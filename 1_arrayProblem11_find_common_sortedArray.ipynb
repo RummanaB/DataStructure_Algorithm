{
 "cells": [
  {
   "cell_type": "markdown",
   "metadata": {},
   "source": [
    "Find common elemenet in two sorted array"
   ]
  },
  {
   "cell_type": "code",
   "execution_count": 1,
   "metadata": {},
   "outputs": [],
   "source": [
    "\n",
    "def common_element(arr1,arr2):\n",
    "    \n",
    "    p1=0\n",
    "    p2=0\n",
    "    common_value=[]\n",
    "    while p1<len(arr1) and p2<len(arr2):\n",
    "        #print('P1=', p1 ,' , P2= ', p2 )\n",
    "        if arr1[p1]==arr2[p2]:\n",
    "            common_value.append(arr1[p1])\n",
    "            p1+=1\n",
    "            p2+=1\n",
    "            \n",
    "        elif arr1[p1]>arr2[p2]:\n",
    "            p2+=1\n",
    "        else:\n",
    "            p1+=1\n",
    "    \n",
    "    \n",
    "    return common_value\n",
    "\n",
    "Time complexity: Os(max(n,m))"
   ]
  },
  {
   "cell_type": "code",
   "execution_count": 2,
   "metadata": {},
   "outputs": [
    {
     "data": {
      "text/plain": [
       "[1, 4, 5, 9]"
      ]
     },
     "execution_count": 2,
     "metadata": {},
     "output_type": "execute_result"
    }
   ],
   "source": [
    "A=[1,3,4,5,7,9]\n",
    "B=[1,2,4,5,9,10]\n",
    "common_element(A,B)"
   ]
  },
  {
   "cell_type": "code",
   "execution_count": 3,
   "metadata": {},
   "outputs": [
    {
     "data": {
      "text/plain": [
       "[1, 4, 5, 9]"
      ]
     },
     "execution_count": 3,
     "metadata": {},
     "output_type": "execute_result"
    }
   ],
   "source": [
    "A=[1,3,4,5,7,9]\n",
    "B=[1,2,4,5,9]\n",
    "common_element(A,B)"
   ]
  },
  {
   "cell_type": "code",
   "execution_count": null,
   "metadata": {},
   "outputs": [],
   "source": []
  }
 ],
 "metadata": {
  "kernelspec": {
   "display_name": "Python 3",
   "language": "python",
   "name": "python3"
  },
  "language_info": {
   "codemirror_mode": {
    "name": "ipython",
    "version": 3
   },
   "file_extension": ".py",
   "mimetype": "text/x-python",
   "name": "python",
   "nbconvert_exporter": "python",
   "pygments_lexer": "ipython3",
   "version": "3.8.3"
  }
 },
 "nbformat": 4,
 "nbformat_minor": 4
}

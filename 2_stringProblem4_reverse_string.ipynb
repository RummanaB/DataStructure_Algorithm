{
 "cells": [
  {
   "cell_type": "markdown",
   "metadata": {},
   "source": [
    "Reverse a string\n",
    "\n",
    "Input: 'Hello World'\n",
    "output:dlroW olleH"
   ]
  },
  {
   "cell_type": "markdown",
   "metadata": {},
   "source": [
    "# Method 1: Using extended slice syntax\n",
    "Explanation : Extended slice offers to put a “step” field as [start,stop,step], and giving no field as start and stop indicates default to 0 and string length respectively and “-1” denotes starting from end and stop at the start, hence reversing string."
   ]
  },
  {
   "cell_type": "code",
   "execution_count": 2,
   "metadata": {},
   "outputs": [
    {
     "name": "stdout",
     "output_type": "stream",
     "text": [
      "dlroW olleH\n"
     ]
    }
   ],
   "source": [
    "str1='Hello World'\n",
    "opp=str1[::-1]\n",
    "print(opp)"
   ]
  },
  {
   "cell_type": "markdown",
   "metadata": {},
   "source": [
    "# Method 2: Using reversed\n",
    "'''The reversed() returns the reversed iterator of the given string and then its elements are joined empty string separated using join(). And reversed order string is formed.'''\n"
   ]
  },
  {
   "cell_type": "code",
   "execution_count": 20,
   "metadata": {},
   "outputs": [],
   "source": [
    "def reverse_reversed(s):\n",
    "    s=\"\".join(reversed(s))\n",
    "    return s\n",
    "    "
   ]
  },
  {
   "cell_type": "code",
   "execution_count": 21,
   "metadata": {},
   "outputs": [
    {
     "data": {
      "text/plain": [
       "'dlrow olleH'"
      ]
     },
     "execution_count": 21,
     "metadata": {},
     "output_type": "execute_result"
    }
   ],
   "source": [
    "reverse_reversed('Hello world')"
   ]
  },
  {
   "cell_type": "markdown",
   "metadata": {},
   "source": [
    "# Method 3: using for loop # For loop"
   ]
  },
  {
   "cell_type": "code",
   "execution_count": 2,
   "metadata": {},
   "outputs": [
    {
     "name": "stdout",
     "output_type": "stream",
     "text": [
      "dlroW olleH\n"
     ]
    }
   ],
   "source": [
    "str1='Hello World'\n",
    "\n",
    "str_op=''\n",
    "for i in range(len(str1)-1,-1,-1):\n",
    "    str_op=str_op+str1[i]\n",
    "    \n",
    "print(str_op)"
   ]
  },
  {
   "cell_type": "code",
   "execution_count": 16,
   "metadata": {},
   "outputs": [],
   "source": [
    "# method 3b: using for loop\n",
    "def str_reverse(s):\n",
    "    \n",
    "    str=\"\"\n",
    "    \n",
    "    for i in s:\n",
    "        str=i+str\n",
    "    return str"
   ]
  },
  {
   "cell_type": "code",
   "execution_count": 17,
   "metadata": {},
   "outputs": [
    {
     "data": {
      "text/plain": [
       "'dlroW olleH'"
      ]
     },
     "execution_count": 17,
     "metadata": {},
     "output_type": "execute_result"
    }
   ],
   "source": [
    "str_reverse('Hello World')"
   ]
  },
  {
   "cell_type": "markdown",
   "metadata": {},
   "source": [
    "# Method 4: using recursion"
   ]
  },
  {
   "cell_type": "code",
   "execution_count": 18,
   "metadata": {},
   "outputs": [],
   "source": [
    "def reverse_recursion(s):\n",
    "    if len(s)==0:\n",
    "        return s\n",
    "    else:\n",
    "        return reverse_recursion(s[1:])+s[0]"
   ]
  },
  {
   "cell_type": "code",
   "execution_count": null,
   "metadata": {},
   "outputs": [],
   "source": [
    "def rev_rec(s):\n",
    "    if len(s)==0:\n",
    "        return s\n",
    "    else:\n",
    "        return rev_rec(s[1:]+s[0])"
   ]
  },
  {
   "cell_type": "code",
   "execution_count": 19,
   "metadata": {},
   "outputs": [
    {
     "data": {
      "text/plain": [
       "'dlroW olleH'"
      ]
     },
     "execution_count": 19,
     "metadata": {},
     "output_type": "execute_result"
    }
   ],
   "source": [
    "reverse_recursion('Hello World')"
   ]
  },
  {
   "cell_type": "markdown",
   "metadata": {},
   "source": [
    "## Method 5: Stack"
   ]
  },
  {
   "cell_type": "code",
   "execution_count": 27,
   "metadata": {},
   "outputs": [],
   "source": [
    "def createStack():\n",
    "    stack=[]\n",
    "    return stack\n",
    "def isEmpty(stack):\n",
    "    if len(stack)==0:\n",
    "        return True\n",
    "    \n",
    "def size_stack(stack):\n",
    "    return len(stack)\n",
    "\n",
    "# Function to add item to stack\n",
    "\n",
    "def push(stack,item):\n",
    "    #stack.insert(0,item)\n",
    "    stack.append(item)\n",
    "\n",
    "def pop(stack):\n",
    "    if isEmpty(stack):\n",
    "        return\n",
    "    else:\n",
    "        stack.pop()\n",
    "\n",
    "# define reverse function using stack\n",
    "\n",
    "def reverse_stack(s):\n",
    "    \n",
    "    n=len(s)\n",
    "    print(s)\n",
    "    stack=createStack()\n",
    "    \n",
    "    for i in range(0,n,1):\n",
    "        push(stack,s[i])\n",
    "    \n",
    "    print(stack)\n",
    "    s=''\n",
    "    \n",
    "    for i in range(0,n,1):\n",
    "        s=s+pop(stack)\n",
    "    \n",
    "    print(s)\n",
    "    return s\n"
   ]
  },
  {
   "cell_type": "raw",
   "metadata": {},
   "source": [
    "reverse_stack('Hello world')"
   ]
  },
  {
   "cell_type": "raw",
   "metadata": {},
   "source": []
  }
 ],
 "metadata": {
  "kernelspec": {
   "display_name": "Python 3",
   "language": "python",
   "name": "python3"
  },
  "language_info": {
   "codemirror_mode": {
    "name": "ipython",
    "version": 3
   },
   "file_extension": ".py",
   "mimetype": "text/x-python",
   "name": "python",
   "nbconvert_exporter": "python",
   "pygments_lexer": "ipython3",
   "version": "3.8.3"
  }
 },
 "nbformat": 4,
 "nbformat_minor": 4
}

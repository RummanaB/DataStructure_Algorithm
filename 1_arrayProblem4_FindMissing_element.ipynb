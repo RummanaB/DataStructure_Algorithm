{
 "cells": [
  {
   "cell_type": "markdown",
   "metadata": {},
   "source": [
    "## Find the missing element\n",
    "consider an array of non-negative integer. A second array is formed by shuffling the elements of the first array and deleting a random element. Given these two arrays, which element is missing in the second array. \n",
    "\n",
    "Example: The first array is shuffled and the number 5 is removed to construct the second array.\n",
    "\n",
    "Input: finder([1,2,3,4,5,6,7],[3,7,2,1,4,6])\n",
    "Output: 5"
   ]
  },
  {
   "cell_type": "markdown",
   "metadata": {},
   "source": [
    "## Brute force\n",
    "run 2 for loops and match the elements and check which element is missing\n",
    "\n",
    "Time complexity: O(n^2)\n",
    "\n",
    "\n"
   ]
  },
  {
   "cell_type": "code",
   "execution_count": 1,
   "metadata": {},
   "outputs": [],
   "source": [
    "# Efficient solution\n",
    "\n",
    "#Sort both arrays and compare each element in the same index. When they don't match thats our missing number\n",
    "\n",
    "def finder(arr1,arr2):\n",
    "    # sort both arrays\n",
    "    arr1.sort()\n",
    "    arr2.sort()\n",
    "    \n",
    "    for num1,num2 in zip(arr1,arr2):\n",
    "        \n",
    "        if num1!=num2:\n",
    "            return num1\n",
    "        \n",
    "    return arr1[-1] # otherwisr return last element of first array\n",
    "\n",
    "# Time complexity, O(n)=O(nlog(n))\n"
   ]
  },
  {
   "cell_type": "code",
   "execution_count": 2,
   "metadata": {},
   "outputs": [
    {
     "data": {
      "text/plain": [
       "5"
      ]
     },
     "execution_count": 2,
     "metadata": {},
     "output_type": "execute_result"
    }
   ],
   "source": [
    "arr1=[1,2,3,4,5,6,7]\n",
    "arr2=[3,7,2,1,4,6]\n",
    "finder(arr1,arr2)"
   ]
  },
  {
   "cell_type": "code",
   "execution_count": 7,
   "metadata": {},
   "outputs": [],
   "source": [
    "# second solutions\n",
    "\n",
    "import collections   # dict and keys are already in python\n",
    "\n",
    "def finder2(arr1,arr2):\n",
    "    d=collections.defaultdict(int) # if key is not in dictionry, it add keyin  the dict\n",
    "    \n",
    "    for num in arr2:\n",
    "        d[num]+=1 # add count for every instance in the arr2\n",
    "    \n",
    "    for num in arr1:\n",
    "        if d[num]==0: # we never counted the element\n",
    "            return num\n",
    "        else:\n",
    "            d[num]-=1 # subtract the count\n",
    "\n",
    "#Time complexity: O(n)"
   ]
  },
  {
   "cell_type": "code",
   "execution_count": 9,
   "metadata": {},
   "outputs": [
    {
     "data": {
      "text/plain": [
       "5"
      ]
     },
     "execution_count": 9,
     "metadata": {},
     "output_type": "execute_result"
    }
   ],
   "source": [
    "arr1=[5,5,57,7]\n",
    "arr2=[5,7,7]\n",
    "finder2(arr1,arr2)"
   ]
  },
  {
   "cell_type": "code",
   "execution_count": 3,
   "metadata": {},
   "outputs": [],
   "source": [
    "# Method 3: xor operation:clever solution\n",
    "\n",
    "# https://www.youtube.com/watch?v=lBk6fVhuCyw&list=PLqM7alHXFySGqCvcwfqqMrteqWukz9ZoE&index=12&ab_channel=GeeksforGeeks\n",
    "# xor: if missing element is 1, outputs 1\n",
    "\n",
    "def finder3(arr1,arr2):\n",
    "    result=0\n",
    "    \n",
    "    # perform xor between the number in the arrays\n",
    "    for num in arr1+arr2: # concatanating array\n",
    "        result^=num\n",
    "        #print( result)\n",
    "        \n",
    "    return result"
   ]
  },
  {
   "cell_type": "code",
   "execution_count": 4,
   "metadata": {},
   "outputs": [
    {
     "data": {
      "text/plain": [
       "5"
      ]
     },
     "execution_count": 4,
     "metadata": {},
     "output_type": "execute_result"
    }
   ],
   "source": [
    "arr1=[5,5,7,7]\n",
    "arr2=[5,7,7]\n",
    "finder3(arr1,arr2)"
   ]
  },
  {
   "cell_type": "markdown",
   "metadata": {},
   "source": [
    "### Find missing from 1 to 100"
   ]
  },
  {
   "cell_type": "code",
   "execution_count": 6,
   "metadata": {},
   "outputs": [
    {
     "name": "stdout",
     "output_type": "stream",
     "text": [
      "4.0\n"
     ]
    }
   ],
   "source": [
    "# Mmethod 4: \n",
    "# add array 1, add array2, then subtract these summed value. The difference is the missing value\n",
    "# problem: probel if array is too long, or contains large value\n",
    "# overflow if number is too large\n",
    "# may lose number if number is in decimal range\n",
    "\n",
    "n=6\n",
    "sum100=n*(n+1)/2\n",
    "#print(sum100)\n",
    "\n",
    "arr=[1,2,3, 5,6]\n",
    "#print(arr)\n",
    "arrs=sum(arr)\n",
    "print(sum100-arrs)"
   ]
  },
  {
   "cell_type": "code",
   "execution_count": null,
   "metadata": {},
   "outputs": [],
   "source": []
  }
 ],
 "metadata": {
  "kernelspec": {
   "display_name": "Python 3",
   "language": "python",
   "name": "python3"
  },
  "language_info": {
   "codemirror_mode": {
    "name": "ipython",
    "version": 3
   },
   "file_extension": ".py",
   "mimetype": "text/x-python",
   "name": "python",
   "nbconvert_exporter": "python",
   "pygments_lexer": "ipython3",
   "version": "3.8.3"
  }
 },
 "nbformat": 4,
 "nbformat_minor": 4
}

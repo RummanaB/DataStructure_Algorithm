{
 "cells": [
  {
   "cell_type": "markdown",
   "metadata": {},
   "source": [
    "### Move all zeros to end of array\n",
    "Given an array of random numbers, push all the zero's of a given array to the end of the array.\n",
    "\n",
    "Input: [1,9,8,4,0,0,2,7,0,6,0]\n",
    "Output:[1,9,8,4,2,7,6,0,0,0]\n",
    "\n",
    "Expected time complexity: O(n) and extra space O(1)"
   ]
  },
  {
   "cell_type": "code",
   "execution_count": 4,
   "metadata": {},
   "outputs": [],
   "source": [
    " \n",
    "def pushZerosToEnd(arr):\n",
    "    count=0 # keep track of total non-zero elements\n",
    "    n=len(arr)\n",
    "    \n",
    "    for num in arr:\n",
    "        if num!=0:       \n",
    "            arr[count]=num\n",
    "            count+=1\n",
    "            #print(arr)\n",
    "            \n",
    "    while count<len(arr):\n",
    "          \n",
    "        arr[count]=0\n",
    "        count+=1\n",
    "    #print(arr)\n",
    "    return arr\n",
    "\n",
    "\n",
    "# Time complexity: O(n) \n",
    "# Space complexity: O(1)"
   ]
  },
  {
   "cell_type": "code",
   "execution_count": 3,
   "metadata": {},
   "outputs": [
    {
     "data": {
      "text/plain": [
       "[1, 9, 8, 4, 2, 7, 6, 0, 0, 0, 0]"
      ]
     },
     "execution_count": 3,
     "metadata": {},
     "output_type": "execute_result"
    }
   ],
   "source": [
    "arr=[1,9,8,4,0,0,2,7,0,6,0]\n",
    "pushZerosToEnd(arr)"
   ]
  },
  {
   "cell_type": "code",
   "execution_count": null,
   "metadata": {},
   "outputs": [],
   "source": []
  },
  {
   "cell_type": "code",
   "execution_count": null,
   "metadata": {},
   "outputs": [],
   "source": []
  },
  {
   "cell_type": "code",
   "execution_count": null,
   "metadata": {},
   "outputs": [],
   "source": []
  },
  {
   "cell_type": "code",
   "execution_count": null,
   "metadata": {},
   "outputs": [],
   "source": []
  }
 ],
 "metadata": {
  "kernelspec": {
   "display_name": "Python 3",
   "language": "python",
   "name": "python3"
  },
  "language_info": {
   "codemirror_mode": {
    "name": "ipython",
    "version": 3
   },
   "file_extension": ".py",
   "mimetype": "text/x-python",
   "name": "python",
   "nbconvert_exporter": "python",
   "pygments_lexer": "ipython3",
   "version": "3.8.3"
  }
 },
 "nbformat": 4,
 "nbformat_minor": 4
}

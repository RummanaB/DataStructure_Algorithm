{
 "cells": [
  {
   "cell_type": "markdown",
   "metadata": {},
   "source": [
    "Return maximum occuring character in an input string\n",
    "\n"
   ]
  },
  {
   "cell_type": "code",
   "execution_count": 7,
   "metadata": {},
   "outputs": [],
   "source": [
    "def getMaxOccuringChar(str):\n",
    "    \n",
    "    max_item=-1\n",
    "    max_count=0\n",
    "    \n",
    "    count={}\n",
    "    for s in str:\n",
    "        if s not in count:\n",
    "            count[s]=1\n",
    "        else:\n",
    "            count[s]+=1\n",
    "            \n",
    "            \n",
    "        if count[s]>max_count:\n",
    "            max_count=count[s]\n",
    "            max_item=s\n",
    "            \n",
    "    return max_item,max_count"
   ]
  },
  {
   "cell_type": "code",
   "execution_count": 8,
   "metadata": {},
   "outputs": [
    {
     "data": {
      "text/plain": [
       "('c', 3)"
      ]
     },
     "execution_count": 8,
     "metadata": {},
     "output_type": "execute_result"
    }
   ],
   "source": [
    "getMaxOccuringChar('aabccc')"
   ]
  },
  {
   "cell_type": "code",
   "execution_count": 9,
   "metadata": {},
   "outputs": [
    {
     "data": {
      "text/plain": [
       "('s', 2)"
      ]
     },
     "execution_count": 9,
     "metadata": {},
     "output_type": "execute_result"
    }
   ],
   "source": [
    "getMaxOccuringChar('sample string')"
   ]
  },
  {
   "cell_type": "code",
   "execution_count": null,
   "metadata": {},
   "outputs": [],
   "source": []
  }
 ],
 "metadata": {
  "kernelspec": {
   "display_name": "Python 3",
   "language": "python",
   "name": "python3"
  },
  "language_info": {
   "codemirror_mode": {
    "name": "ipython",
    "version": 3
   },
   "file_extension": ".py",
   "mimetype": "text/x-python",
   "name": "python",
   "nbconvert_exporter": "python",
   "pygments_lexer": "ipython3",
   "version": "3.8.3"
  }
 },
 "nbformat": 4,
 "nbformat_minor": 4
}
